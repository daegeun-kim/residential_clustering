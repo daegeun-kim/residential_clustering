{
 "cells": [
  {
   "cell_type": "code",
   "execution_count": 1,
   "id": "407ac6b2",
   "metadata": {},
   "outputs": [],
   "source": [
    "import pandas as pd\n",
    "import geopandas as gpd\n",
    "import numpy as np"
   ]
  },
  {
   "cell_type": "code",
   "execution_count": 2,
   "id": "46cad1f9",
   "metadata": {},
   "outputs": [
    {
     "name": "stderr",
     "output_type": "stream",
     "text": [
      "C:\\Users\\kdgki\\AppData\\Local\\Temp\\ipykernel_2676\\1778808208.py:1: DtypeWarning: Columns (0,4,5,8,9,22,33,44,55,66,69,70,73,74,75,77,78,82,85,87,92,99,100,104,108,110,115,117,132) have mixed types. Specify dtype option on import or set low_memory=False.\n",
      "  property = pd.read_csv('../Data/original/nyc_property_valuation_2025.csv')\n"
     ]
    }
   ],
   "source": [
    "property = pd.read_csv('../Data/original/nyc_property_valuation_2025.csv')"
   ]
  },
  {
   "cell_type": "code",
   "execution_count": 3,
   "id": "9bc5dc7e",
   "metadata": {},
   "outputs": [],
   "source": [
    "property[\"BBL\"] = (\n",
    "    property[\"BORO\"].astype(str)\n",
    "    + property[\"BLOCK\"].astype(str).str.zfill(5)\n",
    "    + property[\"LOT\"].astype(str).str.zfill(4)\n",
    ")"
   ]
  },
  {
   "cell_type": "code",
   "execution_count": 4,
   "id": "7d1627a9",
   "metadata": {},
   "outputs": [],
   "source": [
    "property_sorted = property[['BBL', 'CURTAXCLASS', 'CURMKTTOT', 'PYMKTTOT', 'GROSS_SQFT', 'RESIDENTIAL_AREA_GROSS', 'BLD_STORY', 'ZONING', 'BLDG_CLASS']]"
   ]
  },
  {
   "cell_type": "code",
   "execution_count": 5,
   "id": "8d156eed",
   "metadata": {},
   "outputs": [
    {
     "name": "stderr",
     "output_type": "stream",
     "text": [
      "C:\\Users\\kdgki\\AppData\\Local\\Temp\\ipykernel_2676\\1609957628.py:1: SettingWithCopyWarning: \n",
      "A value is trying to be set on a copy of a slice from a DataFrame.\n",
      "Try using .loc[row_indexer,col_indexer] = value instead\n",
      "\n",
      "See the caveats in the documentation: https://pandas.pydata.org/pandas-docs/stable/user_guide/indexing.html#returning-a-view-versus-a-copy\n",
      "  property_sorted[\"CURMKTTOT\"] = pd.to_numeric(property_sorted[\"CURMKTTOT\"], errors='coerce')\n",
      "C:\\Users\\kdgki\\AppData\\Local\\Temp\\ipykernel_2676\\1609957628.py:2: SettingWithCopyWarning: \n",
      "A value is trying to be set on a copy of a slice from a DataFrame.\n",
      "Try using .loc[row_indexer,col_indexer] = value instead\n",
      "\n",
      "See the caveats in the documentation: https://pandas.pydata.org/pandas-docs/stable/user_guide/indexing.html#returning-a-view-versus-a-copy\n",
      "  property_sorted[\"CURTAXCLASS\"] = pd.to_numeric(property_sorted[\"CURTAXCLASS\"], errors='coerce')\n",
      "C:\\Users\\kdgki\\AppData\\Local\\Temp\\ipykernel_2676\\1609957628.py:3: SettingWithCopyWarning: \n",
      "A value is trying to be set on a copy of a slice from a DataFrame.\n",
      "Try using .loc[row_indexer,col_indexer] = value instead\n",
      "\n",
      "See the caveats in the documentation: https://pandas.pydata.org/pandas-docs/stable/user_guide/indexing.html#returning-a-view-versus-a-copy\n",
      "  property_sorted[\"PYMKTTOT\"] = pd.to_numeric(property_sorted[\"PYMKTTOT\"], errors='coerce')\n",
      "C:\\Users\\kdgki\\AppData\\Local\\Temp\\ipykernel_2676\\1609957628.py:4: SettingWithCopyWarning: \n",
      "A value is trying to be set on a copy of a slice from a DataFrame.\n",
      "Try using .loc[row_indexer,col_indexer] = value instead\n",
      "\n",
      "See the caveats in the documentation: https://pandas.pydata.org/pandas-docs/stable/user_guide/indexing.html#returning-a-view-versus-a-copy\n",
      "  property_sorted[\"GROSS_SQFT\"] = property_sorted[\"GROSS_SQFT\"].replace(0, np.nan)\n",
      "C:\\Users\\kdgki\\AppData\\Local\\Temp\\ipykernel_2676\\1609957628.py:5: SettingWithCopyWarning: \n",
      "A value is trying to be set on a copy of a slice from a DataFrame.\n",
      "Try using .loc[row_indexer,col_indexer] = value instead\n",
      "\n",
      "See the caveats in the documentation: https://pandas.pydata.org/pandas-docs/stable/user_guide/indexing.html#returning-a-view-versus-a-copy\n",
      "  property_sorted[\"GROSS_SQFT\"] = pd.to_numeric(property_sorted[\"GROSS_SQFT\"], errors='coerce')\n",
      "C:\\Users\\kdgki\\AppData\\Local\\Temp\\ipykernel_2676\\1609957628.py:7: SettingWithCopyWarning: \n",
      "A value is trying to be set on a copy of a slice from a DataFrame.\n",
      "Try using .loc[row_indexer,col_indexer] = value instead\n",
      "\n",
      "See the caveats in the documentation: https://pandas.pydata.org/pandas-docs/stable/user_guide/indexing.html#returning-a-view-versus-a-copy\n",
      "  property_sorted[\"price_per_sqft\"] = property_sorted[\"CURMKTTOT\"] / property_sorted[\"GROSS_SQFT\"]\n",
      "C:\\Users\\kdgki\\AppData\\Local\\Temp\\ipykernel_2676\\1609957628.py:8: SettingWithCopyWarning: \n",
      "A value is trying to be set on a copy of a slice from a DataFrame.\n",
      "Try using .loc[row_indexer,col_indexer] = value instead\n",
      "\n",
      "See the caveats in the documentation: https://pandas.pydata.org/pandas-docs/stable/user_guide/indexing.html#returning-a-view-versus-a-copy\n",
      "  property_sorted[\"price_per_sqft_2024\"] = property_sorted[\"PYMKTTOT\"] / property_sorted[\"GROSS_SQFT\"]\n"
     ]
    }
   ],
   "source": [
    "property_sorted[\"CURMKTTOT\"] = pd.to_numeric(property_sorted[\"CURMKTTOT\"], errors='coerce')\n",
    "property_sorted[\"CURTAXCLASS\"] = pd.to_numeric(property_sorted[\"CURTAXCLASS\"], errors='coerce')\n",
    "property_sorted[\"PYMKTTOT\"] = pd.to_numeric(property_sorted[\"PYMKTTOT\"], errors='coerce')\n",
    "property_sorted[\"GROSS_SQFT\"] = property_sorted[\"GROSS_SQFT\"].replace(0, np.nan)\n",
    "property_sorted[\"GROSS_SQFT\"] = pd.to_numeric(property_sorted[\"GROSS_SQFT\"], errors='coerce')\n",
    "property_sorted.loc[property_sorted[\"GROSS_SQFT\"] <= 10, \"GROSS_SQFT\"] = np.nan\n",
    "property_sorted[\"price_per_sqft\"] = property_sorted[\"CURMKTTOT\"] / property_sorted[\"GROSS_SQFT\"]\n",
    "property_sorted[\"price_per_sqft_2024\"] = property_sorted[\"PYMKTTOT\"] / property_sorted[\"GROSS_SQFT\"]"
   ]
  },
  {
   "cell_type": "code",
   "execution_count": 6,
   "id": "f80296fb",
   "metadata": {},
   "outputs": [],
   "source": [
    "# property_sorted.to_csv('../Data/processed/property_value_lot_2025.csv', index=False)"
   ]
  },
  {
   "cell_type": "code",
   "execution_count": 25,
   "id": "cdd3aec6",
   "metadata": {},
   "outputs": [],
   "source": [
    "file1 = r'../Data/original/nyc_building.geojson'\n",
    "building_original = gpd.read_file(file1)\n",
    "manhattan_original = building_original[building_original['mappluto_bbl'].astype(str).str.startswith('1')]\n",
    "manhattan_original = manhattan_original.sort_values(by='bin', ascending=True)"
   ]
  },
  {
   "cell_type": "code",
   "execution_count": 8,
   "id": "04330101",
   "metadata": {},
   "outputs": [],
   "source": [
    "file3 = r'../Data/processed/station_time_taken.csv'\n",
    "time_taken_temp = pd.read_csv(file3, header=None, names=['time_taken'])\n",
    "# order ot time_taken matches with the order of manhattan_original"
   ]
  },
  {
   "cell_type": "code",
   "execution_count": 9,
   "id": "440e9983",
   "metadata": {},
   "outputs": [
    {
     "name": "stderr",
     "output_type": "stream",
     "text": [
      "C:\\Users\\kdgki\\AppData\\Local\\Temp\\ipykernel_2676\\3674851643.py:2: DtypeWarning: Columns (11,20,23,24,36,56) have mixed types. Specify dtype option on import or set low_memory=False.\n",
      "  elevator = pd.read_csv(file4)\n"
     ]
    }
   ],
   "source": [
    "file4 = r'../Data/original/elevator_permit.csv'\n",
    "elevator = pd.read_csv(file4)\n",
    "elevator = elevator[['BIN', 'Elevator Device Type']]\n",
    "elevator = elevator.rename(columns={'BIN':'bin', 'Elevator Device Type':'elevator'})"
   ]
  },
  {
   "cell_type": "code",
   "execution_count": 10,
   "id": "c750bdd8",
   "metadata": {},
   "outputs": [
    {
     "name": "stderr",
     "output_type": "stream",
     "text": [
      "C:\\Users\\kdgki\\AppData\\Local\\Temp\\ipykernel_2676\\2204848067.py:1: DtypeWarning: Columns (17,18,20,21,22,24,25,52,61,62,79,97) have mixed types. Specify dtype option on import or set low_memory=False.\n",
      "  pluto = pd.read_csv('../Data/original/Primary_Land_Use_Tax_Lot_Output__PLUTO__20250822.csv')\n"
     ]
    }
   ],
   "source": [
    "pluto = pd.read_csv('../Data/original/Primary_Land_Use_Tax_Lot_Output__PLUTO__20250822.csv')"
   ]
  },
  {
   "cell_type": "code",
   "execution_count": 11,
   "id": "a193fa6c",
   "metadata": {},
   "outputs": [
    {
     "name": "stdout",
     "output_type": "stream",
     "text": [
      "Index(['base_bbl', 'CURTAXCLASS', 'CURMKTTOT', 'PYMKTTOT', 'GROSS_SQFT',\n",
      "       'RESIDENTIAL_AREA_GROSS', 'BLD_STORY', 'ZONING', 'BLDG_CLASS',\n",
      "       'price_per_sqft', 'price_per_sqft_2024'],\n",
      "      dtype='object')\n"
     ]
    }
   ],
   "source": [
    "property_sorted = property_sorted.rename(columns={'BBL': 'base_bbl'})\n",
    "print(property_sorted.columns)"
   ]
  },
  {
   "cell_type": "code",
   "execution_count": 12,
   "id": "35851980",
   "metadata": {},
   "outputs": [],
   "source": [
    "bin_temp = pd.read_csv('../Data/processed/bin_for_time_taken.csv', header=None)\n",
    "bin_temp.columns = ['bin']"
   ]
  },
  {
   "cell_type": "code",
   "execution_count": 13,
   "id": "c857b95b",
   "metadata": {},
   "outputs": [
    {
     "data": {
      "text/html": [
       "<div>\n",
       "<style scoped>\n",
       "    .dataframe tbody tr th:only-of-type {\n",
       "        vertical-align: middle;\n",
       "    }\n",
       "\n",
       "    .dataframe tbody tr th {\n",
       "        vertical-align: top;\n",
       "    }\n",
       "\n",
       "    .dataframe thead th {\n",
       "        text-align: right;\n",
       "    }\n",
       "</style>\n",
       "<table border=\"1\" class=\"dataframe\">\n",
       "  <thead>\n",
       "    <tr style=\"text-align: right;\">\n",
       "      <th></th>\n",
       "      <th>bin</th>\n",
       "      <th>time_taken</th>\n",
       "    </tr>\n",
       "  </thead>\n",
       "  <tbody>\n",
       "    <tr>\n",
       "      <th>0</th>\n",
       "      <td>1000000</td>\n",
       "      <td>12.173757</td>\n",
       "    </tr>\n",
       "    <tr>\n",
       "      <th>1</th>\n",
       "      <td>1000000</td>\n",
       "      <td>2.727661</td>\n",
       "    </tr>\n",
       "    <tr>\n",
       "      <th>2</th>\n",
       "      <td>1000002</td>\n",
       "      <td>20.000000</td>\n",
       "    </tr>\n",
       "    <tr>\n",
       "      <th>3</th>\n",
       "      <td>1000003</td>\n",
       "      <td>1.629435</td>\n",
       "    </tr>\n",
       "    <tr>\n",
       "      <th>4</th>\n",
       "      <td>1000004</td>\n",
       "      <td>1.419374</td>\n",
       "    </tr>\n",
       "  </tbody>\n",
       "</table>\n",
       "</div>"
      ],
      "text/plain": [
       "       bin  time_taken\n",
       "0  1000000   12.173757\n",
       "1  1000000    2.727661\n",
       "2  1000002   20.000000\n",
       "3  1000003    1.629435\n",
       "4  1000004    1.419374"
      ]
     },
     "execution_count": 13,
     "metadata": {},
     "output_type": "execute_result"
    }
   ],
   "source": [
    "time_taken = pd.concat([bin_temp, time_taken_temp], axis = 1)\n",
    "time_taken['bin'] = pd.to_numeric(time_taken['bin'], errors = 'coerce')\n",
    "time_taken = time_taken.sort_values(by = 'bin', ascending = True).reset_index(drop=True)\n",
    "time_taken.head()"
   ]
  },
  {
   "cell_type": "code",
   "execution_count": 14,
   "id": "143f6447",
   "metadata": {},
   "outputs": [],
   "source": [
    "pluto['base_bbl'] = (\n",
    "    pluto['borocode'].astype(str)\n",
    "    +pluto['Tax block'].astype(str).str.zfill(5)\n",
    "    +pluto['Tax lot'].astype(str).str.zfill(4)\n",
    ")"
   ]
  },
  {
   "cell_type": "code",
   "execution_count": null,
   "id": "0b75b6b0",
   "metadata": {},
   "outputs": [
    {
     "name": "stderr",
     "output_type": "stream",
     "text": [
      "C:\\Users\\kdgki\\AppData\\Local\\Temp\\ipykernel_2676\\1788520427.py:2: SettingWithCopyWarning: \n",
      "A value is trying to be set on a copy of a slice from a DataFrame.\n",
      "Try using .loc[row_indexer,col_indexer] = value instead\n",
      "\n",
      "See the caveats in the documentation: https://pandas.pydata.org/pandas-docs/stable/user_guide/indexing.html#returning-a-view-versus-a-copy\n",
      "  res['base_bbl'] = pd.to_numeric(res['base_bbl'], errors='coerce').astype('Int64')\n"
     ]
    }
   ],
   "source": [
    "res = pluto[['base_bbl', 'unitsres']]\n",
    "res['base_bbl'] = pd.to_numeric(res['base_bbl'], errors='coerce').astype('Int64')\n",
    "manhattan = manhattan_original[['base_bbl', 'construction_year', 'height_roof', 'bin', 'geometry']].reset_index(drop=True)\n",
    "\n",
    "manhattan['bin'] = manhattan['bin'].astype('Int64')\n",
    "manhattan['base_bbl'] = pd.to_numeric(manhattan['base_bbl'], errors='coerce').astype('Int64')\n",
    "property_sorted['base_bbl'] = pd.to_numeric(property_sorted['base_bbl'], errors='coerce').astype('Int64')\n",
    "\n",
    "manhattan = manhattan.dropna(subset=['bin']).copy().reset_index(drop=True)\n",
    "time_taken = time_taken.dropna(subset=['bin']).drop_duplicates(subset=['bin'], keep='first').reset_index(drop=True)\n",
    "\n",
    "manhattan = manhattan.merge(property_sorted, on=\"base_bbl\", how=\"left\")\n",
    "manhattan = manhattan.merge(time_taken, on='bin', how='left')\n",
    "manhattan = manhattan.merge(elevator, on='bin', how='left')\n",
    "manhattan = manhattan.merge(res, on='base_bbl', how='left')"
   ]
  },
  {
   "cell_type": "code",
   "execution_count": null,
   "id": "2f5fe88f",
   "metadata": {},
   "outputs": [
    {
     "name": "stderr",
     "output_type": "stream",
     "text": [
      "C:\\Users\\kdgki\\AppData\\Local\\Temp\\ipykernel_2676\\3507274611.py:1: FutureWarning: The `drop` keyword argument is deprecated and in future the only supported behaviour will match drop=False. To silence this warning and adopt the future behaviour, stop providing `drop` as a keyword to `set_geometry`. To replicate the `drop=True` behaviour you should update your code to\n",
      "`geo_col_name = gdf.active_geometry_name; gdf.set_geometry(new_geo_col).drop(columns=geo_col_name).rename_geometry(geo_col_name)`.\n",
      "  manhattan = manhattan.set_geometry('geometry', drop=False)\n"
     ]
    }
   ],
   "source": [
    "manhattan = manhattan.set_geometry('geometry', drop=False)\n",
    "manhattan['base_bbl'] = pd.to_numeric(manhattan['base_bbl'], errors='coerce')\n",
    "manhattan['time_taken'] = pd.to_numeric(manhattan['time_taken'], errors='coerce')\n",
    "manhattan['construction_year'] = pd.to_numeric(manhattan['construction_year'], errors='coerce')\n",
    "manhattan['height_roof'] = pd.to_numeric(manhattan['height_roof'], errors='coerce')"
   ]
  },
  {
   "cell_type": "code",
   "execution_count": null,
   "id": "0413b7c8",
   "metadata": {},
   "outputs": [],
   "source": [
    "bbl_counts = manhattan.groupby(\"base_bbl\")[\"bin\"].transform(\"count\")\n",
    "\n",
    "# columns to divide\n",
    "cols_to_adjust = ['CURMKTTOT', 'PYMKTTOT', 'GROSS_SQFT', 'RESIDENTIAL_AREA_GROSS', 'unitsres']\n",
    "\n",
    "# divide each column by the per-BBL count\n",
    "for col in cols_to_adjust:\n",
    "    if col in manhattan.columns:\n",
    "        manhattan[col] = manhattan[col] / bbl_counts\n"
   ]
  },
  {
   "cell_type": "code",
   "execution_count": 52,
   "id": "621adda3",
   "metadata": {},
   "outputs": [
    {
     "data": {
      "text/plain": [
       "np.float64(768051.9999999999)"
      ]
     },
     "execution_count": 52,
     "metadata": {},
     "output_type": "execute_result"
    }
   ],
   "source": [
    "\n",
    "manhattan['unitsres'].sum()"
   ]
  },
  {
   "cell_type": "code",
   "execution_count": 48,
   "id": "ec11afe4",
   "metadata": {},
   "outputs": [
    {
     "data": {
      "text/html": [
       "<div>\n",
       "<style scoped>\n",
       "    .dataframe tbody tr th:only-of-type {\n",
       "        vertical-align: middle;\n",
       "    }\n",
       "\n",
       "    .dataframe tbody tr th {\n",
       "        vertical-align: top;\n",
       "    }\n",
       "\n",
       "    .dataframe thead th {\n",
       "        text-align: right;\n",
       "    }\n",
       "</style>\n",
       "<table border=\"1\" class=\"dataframe\">\n",
       "  <thead>\n",
       "    <tr style=\"text-align: right;\">\n",
       "      <th></th>\n",
       "      <th>base_bbl</th>\n",
       "      <th>bin</th>\n",
       "      <th>unitsres</th>\n",
       "      <th>CURTAXCLASS</th>\n",
       "      <th>BLDG_CLASS</th>\n",
       "      <th>geometry</th>\n",
       "    </tr>\n",
       "  </thead>\n",
       "  <tbody>\n",
       "    <tr>\n",
       "      <th>220316</th>\n",
       "      <td>1014260044</td>\n",
       "      <td>1043955</td>\n",
       "      <td>106.875</td>\n",
       "      <td>2.0</td>\n",
       "      <td>D6</td>\n",
       "      <td>MULTIPOLYGON (((-73.96013 40.7694, -73.96016 4...</td>\n",
       "    </tr>\n",
       "  </tbody>\n",
       "</table>\n",
       "</div>"
      ],
      "text/plain": [
       "          base_bbl      bin  unitsres  CURTAXCLASS BLDG_CLASS  \\\n",
       "220316  1014260044  1043955   106.875          2.0         D6   \n",
       "\n",
       "                                                 geometry  \n",
       "220316  MULTIPOLYGON (((-73.96013 40.7694, -73.96016 4...  "
      ]
     },
     "execution_count": 48,
     "metadata": {},
     "output_type": "execute_result"
    }
   ],
   "source": [
    "# top lots by unitsres\n",
    "manhattan[['base_bbl','unitsres']].dropna().sort_values('unitsres', ascending=False).head(10)\n",
    "\n",
    "# check one suspicious lot\n",
    "bbl0 = manhattan.loc[manhattan['unitsres'].idxmax(), 'base_bbl']\n",
    "manhattan.loc[manhattan['base_bbl']==bbl0, ['base_bbl','bin','unitsres','CURTAXCLASS','BLDG_CLASS', 'geometry']].drop_duplicates().head(20)\n"
   ]
  },
  {
   "cell_type": "code",
   "execution_count": 49,
   "id": "af62fe39",
   "metadata": {},
   "outputs": [],
   "source": [
    "manhattan.to_file(r'../Data/processed/manhattan_buildings.geojson', driver='GeoJSON')"
   ]
  }
 ],
 "metadata": {
  "kernelspec": {
   "display_name": "mapping_systems",
   "language": "python",
   "name": "python3"
  },
  "language_info": {
   "codemirror_mode": {
    "name": "ipython",
    "version": 3
   },
   "file_extension": ".py",
   "mimetype": "text/x-python",
   "name": "python",
   "nbconvert_exporter": "python",
   "pygments_lexer": "ipython3",
   "version": "3.12.11"
  }
 },
 "nbformat": 4,
 "nbformat_minor": 5
}
